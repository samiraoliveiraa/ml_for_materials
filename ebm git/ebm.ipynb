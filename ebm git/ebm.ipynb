{
 "cells": [
  {
   "cell_type": "markdown",
   "id": "43bf966a-4c52-442e-90a3-bc151e5725b1",
   "metadata": {},
   "source": [
    "# Explainable Boosting Machines (EBM)"
   ]
  },
  {
   "cell_type": "code",
   "execution_count": 1,
   "id": "e608af5c-5b0c-4433-bea5-c4be40766a24",
   "metadata": {},
   "outputs": [],
   "source": [
    "from interpret import show\n",
    "from interpret.glassbox import ExplainableBoostingRegressor\n",
    "from interpret.data import Marginal\n",
    "from interpret.perf import RegressionPerf\n",
    "from sklearn.model_selection import train_test_split\n",
    "import matplotlib.pyplot as plt\n",
    "import pandas as pd\n",
    "from joblib import load"
   ]
  },
  {
   "cell_type": "code",
   "execution_count": 2,
   "id": "2ea51cd6-8cdc-45b8-a848-1691ab452009",
   "metadata": {},
   "outputs": [],
   "source": [
    "TEST_SIZE = 0.1\n",
    "RANDOM_SEED = 24"
   ]
  },
  {
   "cell_type": "code",
   "execution_count": null,
   "id": "2ef84df1-15f1-4339-93c8-7065ed2cb908",
   "metadata": {},
   "outputs": [],
   "source": [
    "ebm_model = load('ebm_model_trained.joblib')"
   ]
  },
  {
   "cell_type": "code",
   "execution_count": null,
   "id": "44f9f208-3283-444a-91d9-09f23614a493",
   "metadata": {},
   "outputs": [],
   "source": [
    "df = pd.read_csv('material_data.csv')\n",
    "\n",
    "FEATURES = ['nuclear_charge', 'covalent_radius (pm)', 'electronegativity', 'electron_affinity (eV)', 'nuclear_charge_max', 'nuclear_charge_min', 'covalent_radius_max (pm)', 'covalent_radius_min (pm)', 'electronegativity_max', 'electronegativity_min', 'electron_affinity_max (eV)', 'electron_affinity_min (eV)', 'ionization_energy (eV)', 'ionization_energy_max (eV)', 'ionization_energy_min (eV)', 'Cr$_+$ (pm)', 'Cr$_-$ (pm)', 'Cr$_*$ (pm)', 'Cr$_÷$ (pm)', 'E$_+$', 'E$_-$', 'E$_*$', 'E$_÷$', 'EA$_+$ (eV)', 'EA$_-$ (eV)', 'EA$_*$ (eV)', 'EA$_÷$ (eV)', 'I$_+$ (eV)', 'I$_-$ (eV)', 'I$_*$ (eV)', 'I$_÷$ (eV)']\n",
    "TARGET = ['ef (eV)']\n",
    "\n",
    "df = df.reindex(FEATURES + TARGET, axis=1)\n",
    "df = df.dropna() \n",
    "\n",
    "X = df.reindex(FEATURES, axis=1)\n",
    "y = df.reindex(TARGET, axis=1)\n",
    "\n",
    "X_train, X_test, y_train, y_test = train_test_split(X, y, test_size=TEST_SIZE, random_state=RANDOM_SEED)"
   ]
  },
  {
   "cell_type": "code",
   "execution_count": null,
   "id": "ab866b6d-36c0-44b6-8178-73c96b512abb",
   "metadata": {},
   "outputs": [],
   "source": [
    "performance = RegressionPerf(ebm_model).explain_perf(X, y, name=\"Performance\")\n",
    "show(performance)"
   ]
  },
  {
   "cell_type": "code",
   "execution_count": null,
   "id": "c1832c47-e088-4fec-83cd-9e9bf10d9341",
   "metadata": {},
   "outputs": [],
   "source": [
    "explanation = ebm_model.explain_global()\n",
    "show(explanation)"
   ]
  }
 ],
 "metadata": {
  "kernelspec": {
   "display_name": "ilumpy",
   "language": "python",
   "name": "ilumpy"
  },
  "language_info": {
   "codemirror_mode": {
    "name": "ipython",
    "version": 3
   },
   "file_extension": ".py",
   "mimetype": "text/x-python",
   "name": "python",
   "nbconvert_exporter": "python",
   "pygments_lexer": "ipython3",
   "version": "3.10.8"
  }
 },
 "nbformat": 4,
 "nbformat_minor": 5
}
